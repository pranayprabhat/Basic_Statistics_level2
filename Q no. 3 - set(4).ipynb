{
 "cells": [
  {
   "cell_type": "code",
   "execution_count": 1,
   "id": "dce3751d",
   "metadata": {},
   "outputs": [],
   "source": [
    "import numpy as np\n",
    "from scipy import stats\n",
    "from scipy.stats import norm"
   ]
  },
  {
   "cell_type": "code",
   "execution_count": 3,
   "id": "ea543b9a",
   "metadata": {},
   "outputs": [],
   "source": [
    "#z for x=45\n",
    "z45 = (45-50)/(40/100**0.5)"
   ]
  },
  {
   "cell_type": "code",
   "execution_count": 4,
   "id": "db826c01",
   "metadata": {},
   "outputs": [
    {
     "data": {
      "text/plain": [
       "-1.25"
      ]
     },
     "execution_count": 4,
     "metadata": {},
     "output_type": "execute_result"
    }
   ],
   "source": [
    "z45"
   ]
  },
  {
   "cell_type": "code",
   "execution_count": 5,
   "id": "a1cdd520",
   "metadata": {},
   "outputs": [],
   "source": [
    "#z for x=55\n",
    "z55 = (55-50)/(40/100**0.5)"
   ]
  },
  {
   "cell_type": "code",
   "execution_count": 6,
   "id": "de7257cb",
   "metadata": {},
   "outputs": [
    {
     "data": {
      "text/plain": [
       "1.25"
      ]
     },
     "execution_count": 6,
     "metadata": {},
     "output_type": "execute_result"
    }
   ],
   "source": [
    "z55"
   ]
  },
  {
   "cell_type": "code",
   "execution_count": 8,
   "id": "f4c82939",
   "metadata": {},
   "outputs": [
    {
     "data": {
      "text/plain": [
       "0.2112995473337107"
      ]
     },
     "execution_count": 8,
     "metadata": {},
     "output_type": "execute_result"
    }
   ],
   "source": [
    "#probability of having an investigation\n",
    "1 - (stats.norm.cdf(1.25) - stats.norm.cdf(-1.25))"
   ]
  },
  {
   "cell_type": "code",
   "execution_count": null,
   "id": "afadfd4f",
   "metadata": {},
   "outputs": [],
   "source": []
  }
 ],
 "metadata": {
  "kernelspec": {
   "display_name": "Python 3",
   "language": "python",
   "name": "python3"
  },
  "language_info": {
   "codemirror_mode": {
    "name": "ipython",
    "version": 3
   },
   "file_extension": ".py",
   "mimetype": "text/x-python",
   "name": "python",
   "nbconvert_exporter": "python",
   "pygments_lexer": "ipython3",
   "version": "3.8.8"
  }
 },
 "nbformat": 4,
 "nbformat_minor": 5
}
